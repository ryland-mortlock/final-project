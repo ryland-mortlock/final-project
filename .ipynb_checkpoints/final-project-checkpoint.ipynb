{
 "cells": [
  {
   "cell_type": "markdown",
   "metadata": {},
   "source": [
    "# Python for Basketball Statistics "
   ]
  },
  {
   "cell_type": "markdown",
   "metadata": {},
   "source": [
    "## Getting some data\n",
    "We will be working with NBA basketball data from the 2018-2019 season downloaded from [nbastuffer.com](https://www.nbastuffer.com/2018-2019-nba-player-stats/). <br>\n",
    "Let's load the data into a Pandas dataframe. "
   ]
  },
  {
   "cell_type": "code",
   "execution_count": 1,
   "metadata": {},
   "outputs": [
    {
     "data": {
      "text/html": [
       "<div>\n",
       "<style scoped>\n",
       "    .dataframe tbody tr th:only-of-type {\n",
       "        vertical-align: middle;\n",
       "    }\n",
       "\n",
       "    .dataframe tbody tr th {\n",
       "        vertical-align: top;\n",
       "    }\n",
       "\n",
       "    .dataframe thead th {\n",
       "        text-align: right;\n",
       "    }\n",
       "</style>\n",
       "<table border=\"1\" class=\"dataframe\">\n",
       "  <thead>\n",
       "    <tr style=\"text-align: right;\">\n",
       "      <th></th>\n",
       "      <th>FULL_NAME</th>\n",
       "      <th>TEAM</th>\n",
       "      <th>POS</th>\n",
       "      <th>AGE</th>\n",
       "      <th>GP</th>\n",
       "      <th>MPG</th>\n",
       "      <th>MIN.pct</th>\n",
       "      <th>USG.pct</th>\n",
       "      <th>TOR</th>\n",
       "      <th>FTA</th>\n",
       "      <th>...</th>\n",
       "      <th>RPG</th>\n",
       "      <th>TRB.pct</th>\n",
       "      <th>APG</th>\n",
       "      <th>AST.pct</th>\n",
       "      <th>SPG</th>\n",
       "      <th>BPG</th>\n",
       "      <th>TOPG</th>\n",
       "      <th>VI</th>\n",
       "      <th>ORTG</th>\n",
       "      <th>DRTG</th>\n",
       "    </tr>\n",
       "  </thead>\n",
       "  <tbody>\n",
       "    <tr>\n",
       "      <th>0</th>\n",
       "      <td>James Harden</td>\n",
       "      <td>Hou</td>\n",
       "      <td>G</td>\n",
       "      <td>29.63</td>\n",
       "      <td>78</td>\n",
       "      <td>36.8</td>\n",
       "      <td>76.6</td>\n",
       "      <td>40.5</td>\n",
       "      <td>14.5</td>\n",
       "      <td>858</td>\n",
       "      <td>...</td>\n",
       "      <td>6.6</td>\n",
       "      <td>10.0</td>\n",
       "      <td>7.5</td>\n",
       "      <td>39.5</td>\n",
       "      <td>2.05</td>\n",
       "      <td>0.73</td>\n",
       "      <td>4.96</td>\n",
       "      <td>13.2</td>\n",
       "      <td>118.6</td>\n",
       "      <td>103.5</td>\n",
       "    </tr>\n",
       "    <tr>\n",
       "      <th>1</th>\n",
       "      <td>Paul George</td>\n",
       "      <td>Okc</td>\n",
       "      <td>F</td>\n",
       "      <td>28.94</td>\n",
       "      <td>77</td>\n",
       "      <td>36.9</td>\n",
       "      <td>76.9</td>\n",
       "      <td>29.5</td>\n",
       "      <td>10.0</td>\n",
       "      <td>539</td>\n",
       "      <td>...</td>\n",
       "      <td>8.1</td>\n",
       "      <td>11.4</td>\n",
       "      <td>4.1</td>\n",
       "      <td>17.7</td>\n",
       "      <td>2.21</td>\n",
       "      <td>0.44</td>\n",
       "      <td>2.66</td>\n",
       "      <td>10.6</td>\n",
       "      <td>116.5</td>\n",
       "      <td>100.8</td>\n",
       "    </tr>\n",
       "    <tr>\n",
       "      <th>2</th>\n",
       "      <td>Giannis Antetokounmpo</td>\n",
       "      <td>Mil</td>\n",
       "      <td>F</td>\n",
       "      <td>24.35</td>\n",
       "      <td>72</td>\n",
       "      <td>32.8</td>\n",
       "      <td>68.2</td>\n",
       "      <td>32.3</td>\n",
       "      <td>14.7</td>\n",
       "      <td>686</td>\n",
       "      <td>...</td>\n",
       "      <td>12.5</td>\n",
       "      <td>19.4</td>\n",
       "      <td>5.9</td>\n",
       "      <td>30.3</td>\n",
       "      <td>1.26</td>\n",
       "      <td>1.53</td>\n",
       "      <td>3.71</td>\n",
       "      <td>15.5</td>\n",
       "      <td>121.6</td>\n",
       "      <td>93.9</td>\n",
       "    </tr>\n",
       "    <tr>\n",
       "      <th>3</th>\n",
       "      <td>Joel Embiid</td>\n",
       "      <td>Phi</td>\n",
       "      <td>F-C</td>\n",
       "      <td>25.07</td>\n",
       "      <td>64</td>\n",
       "      <td>33.7</td>\n",
       "      <td>70.1</td>\n",
       "      <td>33.3</td>\n",
       "      <td>13.3</td>\n",
       "      <td>649</td>\n",
       "      <td>...</td>\n",
       "      <td>13.6</td>\n",
       "      <td>21.4</td>\n",
       "      <td>3.7</td>\n",
       "      <td>18.4</td>\n",
       "      <td>0.72</td>\n",
       "      <td>1.91</td>\n",
       "      <td>3.55</td>\n",
       "      <td>13.2</td>\n",
       "      <td>113.7</td>\n",
       "      <td>98.7</td>\n",
       "    </tr>\n",
       "    <tr>\n",
       "      <th>4</th>\n",
       "      <td>LeBron James</td>\n",
       "      <td>Lal</td>\n",
       "      <td>F</td>\n",
       "      <td>34.28</td>\n",
       "      <td>55</td>\n",
       "      <td>35.2</td>\n",
       "      <td>73.4</td>\n",
       "      <td>31.6</td>\n",
       "      <td>13.3</td>\n",
       "      <td>418</td>\n",
       "      <td>...</td>\n",
       "      <td>8.4</td>\n",
       "      <td>12.3</td>\n",
       "      <td>8.3</td>\n",
       "      <td>39.4</td>\n",
       "      <td>1.31</td>\n",
       "      <td>0.60</td>\n",
       "      <td>3.58</td>\n",
       "      <td>14.1</td>\n",
       "      <td>114.4</td>\n",
       "      <td>106.2</td>\n",
       "    </tr>\n",
       "  </tbody>\n",
       "</table>\n",
       "<p>5 rows × 28 columns</p>\n",
       "</div>"
      ],
      "text/plain": [
       "               FULL_NAME TEAM  POS    AGE  GP   MPG  MIN.pct  USG.pct   TOR  \\\n",
       "0           James Harden  Hou    G  29.63  78  36.8     76.6     40.5  14.5   \n",
       "1            Paul George  Okc    F  28.94  77  36.9     76.9     29.5  10.0   \n",
       "2  Giannis Antetokounmpo  Mil    F  24.35  72  32.8     68.2     32.3  14.7   \n",
       "3            Joel Embiid  Phi  F-C  25.07  64  33.7     70.1     33.3  13.3   \n",
       "4           LeBron James  Lal    F  34.28  55  35.2     73.4     31.6  13.3   \n",
       "\n",
       "   FTA  ...   RPG  TRB.pct  APG  AST.pct   SPG   BPG  TOPG    VI   ORTG   DRTG  \n",
       "0  858  ...   6.6     10.0  7.5     39.5  2.05  0.73  4.96  13.2  118.6  103.5  \n",
       "1  539  ...   8.1     11.4  4.1     17.7  2.21  0.44  2.66  10.6  116.5  100.8  \n",
       "2  686  ...  12.5     19.4  5.9     30.3  1.26  1.53  3.71  15.5  121.6   93.9  \n",
       "3  649  ...  13.6     21.4  3.7     18.4  0.72  1.91  3.55  13.2  113.7   98.7  \n",
       "4  418  ...   8.4     12.3  8.3     39.4  1.31  0.60  3.58  14.1  114.4  106.2  \n",
       "\n",
       "[5 rows x 28 columns]"
      ]
     },
     "execution_count": 1,
     "metadata": {},
     "output_type": "execute_result"
    }
   ],
   "source": [
    "import pandas as pd\n",
    "nba_df = pd.read_csv(\"NBA_player_stats_18-19.csv\")\n",
    "nba_df.head(5)"
   ]
  },
  {
   "cell_type": "markdown",
   "metadata": {},
   "source": [
    "The data has 28 statistics for 622 players."
   ]
  },
  {
   "cell_type": "code",
   "execution_count": 24,
   "metadata": {},
   "outputs": [
    {
     "data": {
      "text/plain": [
       "(622, 28)"
      ]
     },
     "execution_count": 24,
     "metadata": {},
     "output_type": "execute_result"
    }
   ],
   "source": [
    "nba_df.shape"
   ]
  },
  {
   "cell_type": "markdown",
   "metadata": {},
   "source": [
    "## Cleaning the data\n",
    "Let's check the percentage of missing observations in each row."
   ]
  },
  {
   "cell_type": "code",
   "execution_count": 53,
   "metadata": {},
   "outputs": [
    {
     "data": {
      "text/plain": [
       "FULL_NAME    0.0\n",
       "TEAM         0.0\n",
       "POS          0.0\n",
       "AGE          0.0\n",
       "GP           0.0\n",
       "MPG          0.0\n",
       "MIN.pct      0.0\n",
       "USG.pct      0.0\n",
       "TOR          1.0\n",
       "FTA          0.0\n",
       "FT.pct       0.0\n",
       "2PA          0.0\n",
       "2P.pct       0.0\n",
       "3PA          0.0\n",
       "3P.pct       0.0\n",
       "eFG.pct      1.0\n",
       "TS.pct       1.0\n",
       "PPG          0.0\n",
       "RPG          0.0\n",
       "TRB.pct      0.0\n",
       "APG          0.0\n",
       "AST.pct      0.0\n",
       "SPG          0.0\n",
       "BPG          0.0\n",
       "TOPG         0.0\n",
       "VI           0.0\n",
       "ORTG         4.0\n",
       "DRTG         4.0\n",
       "dtype: float64"
      ]
     },
     "execution_count": 53,
     "metadata": {},
     "output_type": "execute_result"
    }
   ],
   "source": [
    "round(\n",
    "    nba_df.isna().sum() / nba_df.count() * 100\n",
    ")"
   ]
  },
  {
   "cell_type": "markdown",
   "metadata": {},
   "source": [
    "This is a problem considering I plan to use the defensive rating statistic (DRRTG) which has 4% missing values. <br>\n",
    "Let's have a look at which players have missing data."
   ]
  },
  {
   "cell_type": "code",
   "execution_count": 45,
   "metadata": {},
   "outputs": [
    {
     "data": {
      "text/plain": [
       "518               Greg Monroe\n",
       "537              Troy Caupain\n",
       "561                   Zhou Qi\n",
       "576              Trevon Duval\n",
       "579              Thomas Welsh\n",
       "582              John Jenkins\n",
       "587           Brandon Goodwin\n",
       "594             Emanuel Terry\n",
       "595    DeVaughn Akoon-Purcell\n",
       "597            Terrence Jones\n",
       "603               Tyler Lydon\n",
       "605           Tyler Cavanaugh\n",
       "609              Ike Anigbogu\n",
       "610             Eric Moreland\n",
       "611               George King\n",
       "612               Tyler Davis\n",
       "613               Okaro White\n",
       "614              Andre Ingram\n",
       "615               Zach Lofton\n",
       "616              Kobi Simmons\n",
       "617              Ray Spalding\n",
       "618            Donte Grantham\n",
       "619                Tyler Ulis\n",
       "620              John Holland\n",
       "621               Jawun Evans\n",
       "Name: FULL_NAME, dtype: object"
      ]
     },
     "execution_count": 45,
     "metadata": {},
     "output_type": "execute_result"
    }
   ],
   "source": [
    "unlucky_players =  nba_df[nba_df.isna().any(axis=1)]\n",
    "unlucky_players.FULL_NAME"
   ]
  },
  {
   "cell_type": "markdown",
   "metadata": {},
   "source": [
    "Based on my NBA knowledge, these players all look like guys who don't play much, so they probably won't pass my minutes per game threshold anyway. Let's have a look at their minutes per game. <br> \n",
    "Here, I am deliberately scaling the x-axis to include 48 minutes which is the length of an NBA game."
   ]
  },
  {
   "cell_type": "code",
   "execution_count": 52,
   "metadata": {},
   "outputs": [
    {
     "data": {
      "text/plain": [
       "(0, 48)"
      ]
     },
     "execution_count": 52,
     "metadata": {},
     "output_type": "execute_result"
    },
    {
     "data": {
      "image/png": "[encoded data removed]",
      "text/plain": [
       "<Figure size 432x288 with 1 Axes>"
      ]
     },
     "metadata": {
      "needs_background": "light"
     },
     "output_type": "display_data"
    }
   ],
   "source": [
    "mpg = unlucky_players.MPG.plot.hist()\n",
    "mpg.set_xlim(0,48)"
   ]
  },
  {
   "cell_type": "markdown",
   "metadata": {},
   "source": [
    "## Problem statement\n",
    "The question I'm interested in is this: do the two most frequently used individual defensive statistics: steals and blocks actually correlate with good defensive ability."
   ]
  },
  {
   "cell_type": "markdown",
   "metadata": {},
   "source": [
    "The gold standard for defensive ability I will be using is the defensive rating (DRTG). It is very complicated to calculate and it estimates how many points a player allows per 100 posessions they are on the floor. A lower DRTG means a better defender."
   ]
  },
  {
   "cell_type": "markdown",
   "metadata": {},
   "source": [
    "Let's take a look at thhe distribution of DRTG in the dataset."
   ]
  },
  {
   "cell_type": "code",
   "execution_count": 62,
   "metadata": {},
   "outputs": [
    {
     "data": {
      "image/png": "[encoded data removed]",
      "text/plain": [
       "<Figure size 432x288 with 1 Axes>"
      ]
     },
     "metadata": {
      "needs_background": "light"
     },
     "output_type": "display_data"
    }
   ],
   "source": [
    "drtg_hist = nba_df.DRTG.plot.hist(bins = 30)"
   ]
  },
  {
   "cell_type": "markdown",
   "metadata": {},
   "source": [
    "It seems to be distributed mostly between 100 and 110 which makes sense considering the league average was 110 points per 100 posessions in the 2018-2019 season. "
   ]
  },
  {
   "cell_type": "markdown",
   "metadata": {},
   "source": [
    "As a gut check for the DRTG statistic, let's make sure the Defensive Player of the Year from 2018-2019 season has a good DRTG."
   ]
  },
  {
   "cell_type": "code",
   "execution_count": 68,
   "metadata": {},
   "outputs": [
    {
     "data": {
      "text/html": [
       "<div>\n",
       "<style scoped>\n",
       "    .dataframe tbody tr th:only-of-type {\n",
       "        vertical-align: middle;\n",
       "    }\n",
       "\n",
       "    .dataframe tbody tr th {\n",
       "        vertical-align: top;\n",
       "    }\n",
       "\n",
       "    .dataframe thead th {\n",
       "        text-align: right;\n",
       "    }\n",
       "</style>\n",
       "<table border=\"1\" class=\"dataframe\">\n",
       "  <thead>\n",
       "    <tr style=\"text-align: right;\">\n",
       "      <th></th>\n",
       "      <th>FULL_NAME</th>\n",
       "      <th>TEAM</th>\n",
       "      <th>POS</th>\n",
       "      <th>AGE</th>\n",
       "      <th>GP</th>\n",
       "      <th>MPG</th>\n",
       "      <th>MIN.pct</th>\n",
       "      <th>USG.pct</th>\n",
       "      <th>TOR</th>\n",
       "      <th>FTA</th>\n",
       "      <th>...</th>\n",
       "      <th>RPG</th>\n",
       "      <th>TRB.pct</th>\n",
       "      <th>APG</th>\n",
       "      <th>AST.pct</th>\n",
       "      <th>SPG</th>\n",
       "      <th>BPG</th>\n",
       "      <th>TOPG</th>\n",
       "      <th>VI</th>\n",
       "      <th>ORTG</th>\n",
       "      <th>DRTG</th>\n",
       "    </tr>\n",
       "  </thead>\n",
       "  <tbody>\n",
       "    <tr>\n",
       "      <th>77</th>\n",
       "      <td>Rudy Gobert</td>\n",
       "      <td>Uta</td>\n",
       "      <td>C</td>\n",
       "      <td>26.79</td>\n",
       "      <td>81</td>\n",
       "      <td>31.8</td>\n",
       "      <td>66.3</td>\n",
       "      <td>17.8</td>\n",
       "      <td>12.1</td>\n",
       "      <td>522</td>\n",
       "      <td>...</td>\n",
       "      <td>12.8</td>\n",
       "      <td>21.8</td>\n",
       "      <td>2.0</td>\n",
       "      <td>9.6</td>\n",
       "      <td>0.81</td>\n",
       "      <td>2.3</td>\n",
       "      <td>1.6</td>\n",
       "      <td>9.3</td>\n",
       "      <td>133.8</td>\n",
       "      <td>96.7</td>\n",
       "    </tr>\n",
       "  </tbody>\n",
       "</table>\n",
       "<p>1 rows × 28 columns</p>\n",
       "</div>"
      ],
      "text/plain": [
       "      FULL_NAME TEAM POS    AGE  GP   MPG  MIN.pct  USG.pct   TOR  FTA  ...  \\\n",
       "77  Rudy Gobert  Uta   C  26.79  81  31.8     66.3     17.8  12.1  522  ...   \n",
       "\n",
       "     RPG  TRB.pct  APG  AST.pct   SPG  BPG  TOPG   VI   ORTG  DRTG  \n",
       "77  12.8     21.8  2.0      9.6  0.81  2.3   1.6  9.3  133.8  96.7  \n",
       "\n",
       "[1 rows x 28 columns]"
      ]
     },
     "execution_count": 68,
     "metadata": {},
     "output_type": "execute_result"
    }
   ],
   "source": [
    "nba_df[nba_df.FULL_NAME == \"Rudy Gobert\"]"
   ]
  },
  {
   "cell_type": "markdown",
   "metadata": {},
   "source": [
    "A DRTG of 96.7 passes the gut check. I think some of the outliers with very low DRTG may be playing few minutes per game."
   ]
  },
  {
   "cell_type": "code",
   "execution_count": 72,
   "metadata": {},
   "outputs": [
    {
     "data": {
      "text/plain": [
       "<matplotlib.axes._subplots.AxesSubplot at 0x11a02f080>"
      ]
     },
     "execution_count": 72,
     "metadata": {},
     "output_type": "execute_result"
    },
    {
     "data": {
      "image/png": "[encoded data removed]",
      "text/plain": [
       "<Figure size 432x288 with 1 Axes>"
      ]
     },
     "metadata": {
      "needs_background": "light"
     },
     "output_type": "display_data"
    }
   ],
   "source": [
    "nba_df.plot(x = \"MPG\", y = \"DRTG\", style = 'o')"
   ]
  },
  {
   "cell_type": "code",
   "execution_count": null,
   "metadata": {},
   "outputs": [],
   "source": []
  }
 ],
 "metadata": {
  "kernelspec": {
   "display_name": "Python 3",
   "language": "python",
   "name": "python3"
  },
  "language_info": {
   "codemirror_mode": {
    "name": "ipython",
    "version": 3
   },
   "file_extension": ".py",
   "mimetype": "text/x-python",
   "name": "python",
   "nbconvert_exporter": "python",
   "pygments_lexer": "ipython3",
   "version": "3.7.3"
  }
 },
 "nbformat": 4,
 "nbformat_minor": 4
}
